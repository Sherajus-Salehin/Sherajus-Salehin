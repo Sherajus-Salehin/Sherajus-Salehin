{
  "nbformat": 4,
  "nbformat_minor": 0,
  "metadata": {
    "colab": {
      "name": "lexical analyzer.ipynb",
      "provenance": [],
      "collapsed_sections": [],
      "authorship_tag": "ABX9TyNnrnRyJ8TNuswoBw57ucFQ",
      "include_colab_link": true
    },
    "kernelspec": {
      "name": "python3",
      "display_name": "Python 3"
    },
    "language_info": {
      "name": "python"
    }
  },
  "cells": [
    {
      "cell_type": "markdown",
      "metadata": {
        "id": "view-in-github",
        "colab_type": "text"
      },
      "source": [
        "<a href=\"https://colab.research.google.com/github/Sherajus-Salehin/Sherajus-Salehin/blob/main/lexical_analyzer.ipynb\" target=\"_parent\"><img src=\"https://colab.research.google.com/assets/colab-badge.svg\" alt=\"Open In Colab\"/></a>"
      ]
    },
    {
      "cell_type": "code",
      "metadata": {
        "colab": {
          "base_uri": "https://localhost:8080/"
        },
        "id": "xp0b4rL2iTqD",
        "outputId": "7164bc52-2550-41a4-a694-23c94d3e3a51"
      },
      "source": [
        "import keyword\n",
        "mString=\"\"\n",
        "ik=\"\"\n",
        "keylist=[]\n",
        "idlist=[]\n",
        "oplist=[]\n",
        "logilist=[]\n",
        "numlist=[]\n",
        "otlist=[]\n",
        "arithOP=[\"+\",\"-\",\"*\",\"/\",\"%\",\"E\",\"**\",\"//\"]\n",
        "logOP=[\"&\",\"||\",\"!\",\"<\",\">\",\"<=\",\">=\",\"=\",\"==\"]\n",
        "otr=[\",\",\";\",\"(\",\")\",\"{\",\"}\",\"[\",\"]\"]\n",
        "a=input(\"Enter the code line by line and Write 'START' to determine the end of input\" )\n",
        "while(a!=\"START\"):\n",
        "  mString+=a\n",
        "  a=input(\"Write 'START' to end input\" )\n",
        "\n",
        "for i in keyword.kwlist:\n",
        "    ind=mString.find(i)\n",
        "    if(ind != -1):\n",
        "      keylist.append(i)\n",
        "print(\"keywords:\"), \n",
        "print(keylist)\n",
        "\n",
        "for j in keylist:\n",
        "  mString=mString.replace(j,\"\")\n",
        "\n",
        "for k in arithOP:\n",
        "    ind=mString.find(k)\n",
        "    if(ind != -1):\n",
        "      oplist.append(k)\n",
        "\n",
        "\n",
        "\n",
        "for l in arithOP:\n",
        "  mString=mString.replace(l,\"\")\n",
        "\n",
        "for m in logOP:\n",
        "    ind=mString.find(m)\n",
        "    if(ind != -1):\n",
        "      logilist.append(m)\n",
        "\n",
        "for n in logOP:\n",
        "  mString=mString.replace(n,\"\")\n",
        "\n",
        "for i in mString:\n",
        "  if(i.isnumeric()):\n",
        "    ik+=i\n",
        "  else:\n",
        "    if(ik.isnumeric):\n",
        "      numlist.append(ik)\n",
        "    mString=mString.replace(ik,'')\n",
        "    ik=\"\"\n",
        "\n",
        "while(\"\" in numlist):\n",
        "  numlist.remove(\"\")\n",
        "\n",
        "for o in otr:\n",
        "    ind=mString.find(o)\n",
        "    if(ind != -1):\n",
        "      otlist.append(o)\n",
        "\n",
        "for p in otlist:\n",
        "  mString=mString.replace(p,\"\")\n",
        "\n",
        "idlist=mString.split(\" \")\n",
        "\n",
        "while(\"\" in idlist):\n",
        "  idlist.remove(\"\")\n",
        "\n",
        "print(\"Identifiers:\"),\n",
        "print(idlist)\n",
        "print(\"Math operators:\"),\n",
        "print(oplist)\n",
        "print(\"logical Operators:\"),\n",
        "print(logilist)\n",
        "print(\"Numerical values:\"),\n",
        "print(numlist)\n",
        "print(\"others:\"),\n",
        "print(otlist)\n",
        "\n"
      ],
      "execution_count": null,
      "outputs": [
        {
          "output_type": "stream",
          "text": [
            "Enter the code line by line and Write 'START' to determine the end of inputint a, b, c; float d, e; a = b = 5; c = 6; if ( a > b) {  Page 4 of  c = a - b; e = d - 2.0; } else { d = e + 6.0; b = a + c; }\n",
            "Write 'START' to end inputSTART\n",
            "keywords:\n",
            "['else', 'if', 'in']\n",
            "Identifiers:\n",
            "['t', 'a', 'b', 'c', 'float', 'd', 'e', 'a', 'b', 'c', 'a', 'b', 'Page', 'of', 'c', 'a', 'b', 'e', 'd', '.', 'd', 'e', '.', 'b', 'a', 'c']\n",
            "Math operators:\n",
            "['+', '-']\n",
            "logical Operators:\n",
            "['>', '=']\n",
            "Numerical values:\n",
            "['5', '6', '4', '2', '0', '6', '0']\n",
            "others:\n",
            "[',', ';', '(', ')', '{', '}']\n"
          ],
          "name": "stdout"
        }
      ]
    }
  ]
}