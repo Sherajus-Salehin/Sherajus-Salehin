{
  "nbformat": 4,
  "nbformat_minor": 0,
  "metadata": {
    "colab": {
      "name": "423.ipynb",
      "provenance": [],
      "collapsed_sections": [],
      "toc_visible": true,
      "authorship_tag": "ABX9TyP6kR487nJGC/SwyCgddgc9",
      "include_colab_link": true
    },
    "kernelspec": {
      "name": "python3",
      "display_name": "Python 3"
    },
    "language_info": {
      "name": "python"
    }
  },
  "cells": [
    {
      "cell_type": "markdown",
      "metadata": {
        "id": "view-in-github",
        "colab_type": "text"
      },
      "source": [
        "<a href=\"https://colab.research.google.com/github/Sherajus-Salehin/Sherajus-Salehin/blob/main/423.ipynb\" target=\"_parent\"><img src=\"https://colab.research.google.com/assets/colab-badge.svg\" alt=\"Open In Colab\"/></a>"
      ]
    },
    {
      "cell_type": "code",
      "metadata": {
        "id": "FTRJhQf5uTW3"
      },
      "source": [
        "def DDA(x0,y0,x1,y1):\n",
        "  dx = x1-x0\n",
        "  dy = y1-y0\n",
        "  m=dy/dx\n",
        "  x=x0\n",
        "  y=y0\n",
        "  b=y0-m*x0\n",
        "  print(\"m=\"+str(m))\n",
        "  print(\"b=\"+str(b))\n",
        "  if(-1<m<1):\n",
        "    while(x<x1):\n",
        "      x+=1\n",
        "      y+=m\n",
        "      print(x,y)\n",
        "  elif(m==1):\n",
        "    while(x<x1):\n",
        "      x+=1\n",
        "      y+=1\n",
        "      print(x,y)\n",
        "  else:\n",
        "    y=y1\n",
        "    x=x1\n",
        "    while(y<y0):\n",
        "      y+=1\n",
        "      x+=1/m\n",
        "      print(x,y)\n",
        "DDA(-77,-90,40,16)"
      ],
      "execution_count": null,
      "outputs": []
    },
    {
      "cell_type": "markdown",
      "metadata": {
        "id": "hgD1ljPu1CWU"
      },
      "source": [
        "Mid point line"
      ]
    },
    {
      "cell_type": "code",
      "metadata": {
        "id": "Q6fai9KWaPGd"
      },
      "source": [
        "def MPline(x0, y0, x1, y1):\n",
        "  dx = x1-x0\n",
        "  dy = y1-y0\n",
        "  d=2*dy-dx\n",
        "  E=2*dy\n",
        "  NE=2*(dy-dx)\n",
        "  x=x0\n",
        "  y=y0\n",
        "  c=0\n",
        "  d=0\n",
        "  print(x,y,d)\n",
        "  while(x<x1):\n",
        "    if(d<=0):\n",
        "      d=d+E\n",
        "      x+=1\n",
        "    else:\n",
        "      d=d+NE\n",
        "      x+=1\n",
        "      y+=1\n",
        "    if(d<=0):\n",
        "      print(str(x)+\"   \"+str(y)+\"   \"+str(d)+\"  E\")\n",
        "      d+=1\n",
        "    else:\n",
        "      print(str(x)+\"   \"+str(y)+\"   \"+str(d)+\"  NE\")\n",
        "      c+=1\n",
        "  print(\"change to NE:\"+str(c))\n",
        "  print(\"change to E:\"+str(d))\n",
        "  s=-d/c-d\n",
        "  print(\"slope(maybe):\"+str(s))\n",
        "MPline(16,8,32,16)"
      ],
      "execution_count": null,
      "outputs": []
    },
    {
      "cell_type": "code",
      "metadata": {
        "colab": {
          "base_uri": "https://localhost:8080/"
        },
        "id": "JHDVTBWl5uup",
        "outputId": "2077e966-2a40-478c-b5ca-28fef8844bef"
      },
      "source": [
        "def Zone(x0, y0, x1, y1):\n",
        "  dx = x1-x0\n",
        "  dy = y1-y0\n",
        "  print(dx,dy)\n",
        "  if(abs(dx)>=abs(dy)):\n",
        "    if(dx>0 and dy>0):\n",
        "      print(\"Zone 0\")\n",
        "    elif(dx<0 and dy>0):\n",
        "      print(\"Zone3\")\n",
        "    elif(dx<0 and dy<0):\n",
        "      print(\"zone 4\")\n",
        "    else:\n",
        "      print(\"The last Zone\")\n",
        "  else:\n",
        "    if(dx>0 and dy>0):\n",
        "      print(\"Zone 1\")\n",
        "    elif(dx<0 and dy>0):\n",
        "      print(\"Zone2\")\n",
        "    elif(dx<0 and dy<0):\n",
        "      print(\"zone5\")\n",
        "    else:\n",
        "      print(\"6'th Zone\")\n",
        "Zone(-23,37,18,-43)"
      ],
      "execution_count": null,
      "outputs": [
        {
          "output_type": "stream",
          "text": [
            "41 -80\n",
            "6'th Zone\n"
          ],
          "name": "stdout"
        }
      ]
    },
    {
      "cell_type": "code",
      "metadata": {
        "colab": {
          "base_uri": "https://localhost:8080/",
          "height": 282
        },
        "id": "5R2Wl9OsMe71",
        "outputId": "f439ab5d-62d4-4ec4-ab09-4e84e6ed1ed5"
      },
      "source": [
        "import matplotlib.pyplot as plt\n",
        "def DDA_lab(x0,y0,x1,y1,s):\n",
        "  dx = x1-x0\n",
        "  dy = y1-y0\n",
        "  if(dx==0):\n",
        "    m=999\n",
        "  else:\n",
        "    m=dy/dx\n",
        "  xl=[]\n",
        "  yl=[]\n",
        "  x=x0\n",
        "  y=y0\n",
        "  b=y0-m*x0\n",
        "  if(-1<m<1):\n",
        "    while(x<x1):\n",
        "      x+=1\n",
        "      y=round(y+m)     \n",
        "      xl.append(x)\n",
        "      yl.append(y)\n",
        "  elif(m==1):\n",
        "    while(x<x1):\n",
        "      x+=1\n",
        "      y+=1\n",
        "      xl.append(x)\n",
        "      yl.append(y)\n",
        "  elif(m==999):\n",
        "    while(y<y1):\n",
        "      xl.append(x)\n",
        "      y+=1\n",
        "      yl.append(y)\n",
        "  else:\n",
        "    y=y1\n",
        "    x=x1\n",
        "    while(y<y0):\n",
        "      y+=1\n",
        "      xl.append(x)\n",
        "      yl.append(y)  \n",
        "\n",
        "  if(s=='d'):\n",
        "    plt.plot(xl, yl, linestyle='dashed')\n",
        "  else:\n",
        "    plt.plot(xl,yl)\n",
        "\n",
        "  \n",
        "def H():\n",
        "  DDA_lab(1,1,1,10,'d')\n",
        "  DDA_lab(0,5,3,5,'s')\n",
        "  DDA_lab(3,1,3,10,'s')\n",
        "def T():\n",
        "  DDA_lab(0,10,5,10,'s')\n",
        "  DDA_lab(5,0,5,10,'d')\n",
        "  DDA_lab(4,10,10,10,'s')\n",
        "id=int(input(\"Enter your id to Toss the coin:\"))\n",
        "if(id%2==0):\n",
        "  H();\n",
        "else:\n",
        "  T();\n"
      ],
      "execution_count": null,
      "outputs": [
        {
          "output_type": "stream",
          "text": [
            "Enter your id to Toss the coin:19101010\n"
          ],
          "name": "stdout"
        },
        {
          "output_type": "display_data",
          "data": {
            "image/png": "[encoded data removed]",
            "text/plain": [
              "<Figure size 432x288 with 1 Axes>"
            ]
          },
          "metadata": {
            "tags": [],
            "needs_background": "light"
          }
        }
      ]
    },
    {
      "cell_type": "markdown",
      "metadata": {
        "id": "b0QyXlO6q5Wm"
      },
      "source": [
        " Run all & Test here.   DDA(x0,y0,x1y1) || MPline(x0,y0,x1y1)||Zone(x0,y0,x1y1)"
      ]
    },
    {
      "cell_type": "code",
      "metadata": {
        "colab": {
          "base_uri": "https://localhost:8080/"
        },
        "id": "krJuIW_Gqr7S",
        "outputId": "9bd0df10-8716-429b-dd1e-5c1f91acf679"
      },
      "source": [
        "Zone(5,8,7,8)"
      ],
      "execution_count": null,
      "outputs": [
        {
          "output_type": "stream",
          "text": [
            "2 0\n",
            "The last Zone\n"
          ],
          "name": "stdout"
        }
      ]
    }
  ]
}